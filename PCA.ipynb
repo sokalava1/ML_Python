{
 "cells": [
  {
   "cell_type": "code",
   "execution_count": 1,
   "metadata": {},
   "outputs": [],
   "source": [
    "from sklearn.decomposition import PCA"
   ]
  },
  {
   "cell_type": "code",
   "execution_count": 2,
   "metadata": {},
   "outputs": [],
   "source": [
    "from sklearn.datasets import make_blobs"
   ]
  },
  {
   "cell_type": "code",
   "execution_count": 3,
   "metadata": {},
   "outputs": [],
   "source": [
    "#define sample and random state\n",
    "n_sample=20\n",
    "random_state=20"
   ]
  },
  {
   "cell_type": "code",
   "execution_count": 6,
   "metadata": {},
   "outputs": [],
   "source": [
    "#generate the datatset with 10 features\n",
    "x,y=make_blobs(n_samples=n_sample, n_features=10, random_state=None)"
   ]
  },
  {
   "cell_type": "code",
   "execution_count": 8,
   "metadata": {},
   "outputs": [
    {
     "data": {
      "text/plain": [
       "(20, 10)"
      ]
     },
     "execution_count": 8,
     "metadata": {},
     "output_type": "execute_result"
    }
   ],
   "source": [
    "x.shape"
   ]
  },
  {
   "cell_type": "code",
   "execution_count": 10,
   "metadata": {},
   "outputs": [],
   "source": [
    "#let's reduce the number of features from 10 to 3\n",
    "pca=PCA(n_components=3)"
   ]
  },
  {
   "cell_type": "code",
   "execution_count": 12,
   "metadata": {},
   "outputs": [
    {
     "data": {
      "text/plain": [
       "PCA(copy=True, iterated_power='auto', n_components=3, random_state=None,\n",
       "    svd_solver='auto', tol=0.0, whiten=False)"
      ]
     },
     "execution_count": 12,
     "metadata": {},
     "output_type": "execute_result"
    }
   ],
   "source": [
    "pca.fit(x)"
   ]
  },
  {
   "cell_type": "code",
   "execution_count": 15,
   "metadata": {},
   "outputs": [
    {
     "name": "stdout",
     "output_type": "stream",
     "text": [
      "[0.70892742 0.24878946 0.01385986]\n"
     ]
    }
   ],
   "source": [
    "print(pca.explained_variance_ratio_)"
   ]
  },
  {
   "cell_type": "code",
   "execution_count": 18,
   "metadata": {},
   "outputs": [
    {
     "name": "stdout",
     "output_type": "stream",
     "text": [
      "[-0.25815722 -0.18666687 -0.09128595 -0.18741919  0.39191749  0.31704287\n",
      " -0.17773519  0.08877429  0.62893554 -0.40731459]\n"
     ]
    }
   ],
   "source": [
    "#print the first component\n",
    "first_pca=pca.components_[0]\n",
    "print (first_pca)"
   ]
  },
  {
   "cell_type": "code",
   "execution_count": 20,
   "metadata": {},
   "outputs": [
    {
     "name": "stdout",
     "output_type": "stream",
     "text": [
      "[[ -7.74208727  -7.12969742  -1.28266107]\n",
      " [ -6.21776997   8.15010242   0.28809779]\n",
      " [ 14.59168279  -1.86594279   0.4502726 ]\n",
      " [ -9.95348569  -7.63560565  -2.74959122]\n",
      " [-10.69107912  -8.42900758   0.52715913]\n",
      " [ 14.84956865  -1.68933769   2.35485245]\n",
      " [ -5.64819082   9.26651983  -0.20987133]\n",
      " [ 15.69269576  -0.4972497    0.06481508]\n",
      " [ -7.12068903   9.84216942   2.88883794]\n",
      " [ -6.89495844   9.48510117  -1.89435588]\n",
      " [ -8.45208458  -5.88150398  -0.94378676]\n",
      " [ 15.03358155  -0.11002609  -0.41645826]\n",
      " [ -5.12633243   8.57815882   1.0370252 ]\n",
      " [ -9.17611409  -6.57412733   1.62422514]\n",
      " [ -9.92132561  -5.72499937   1.53185056]\n",
      " [ -9.74388808  -6.94316359   1.26288689]\n",
      " [ 15.16898866  -0.80563218  -0.59485956]\n",
      " [ 15.68385394  -1.40103118   0.64296107]\n",
      " [ -7.6213095    9.65183063  -1.89979747]\n",
      " [ 13.28894328  -0.28655771  -2.68160228]]\n"
     ]
    }
   ],
   "source": [
    "#transform data\n",
    "pca_reduced=pca.transform(x)\n",
    "print(pca_reduced)"
   ]
  },
  {
   "cell_type": "code",
   "execution_count": null,
   "metadata": {},
   "outputs": [],
   "source": []
  }
 ],
 "metadata": {
  "kernelspec": {
   "display_name": "Python 3",
   "language": "python",
   "name": "python3"
  },
  "language_info": {
   "codemirror_mode": {
    "name": "ipython",
    "version": 3
   },
   "file_extension": ".py",
   "mimetype": "text/x-python",
   "name": "python",
   "nbconvert_exporter": "python",
   "pygments_lexer": "ipython3",
   "version": "3.7.3"
  }
 },
 "nbformat": 4,
 "nbformat_minor": 4
}
